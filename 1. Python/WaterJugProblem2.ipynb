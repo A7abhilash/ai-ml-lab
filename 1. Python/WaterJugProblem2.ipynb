{
 "cells": [
  {
   "cell_type": "code",
   "execution_count": 1,
   "metadata": {},
   "outputs": [],
   "source": [
    "from collections import defaultdict"
   ]
  },
  {
   "cell_type": "code",
   "execution_count": 2,
   "metadata": {},
   "outputs": [],
   "source": [
    "jug1, jug2, aim = 4,3,2\n",
    "\n",
    "visited = defaultdict(lambda:False)"
   ]
  },
  {
   "cell_type": "markdown",
   "metadata": {},
   "source": []
  },
  {
   "cell_type": "code",
   "execution_count": 3,
   "metadata": {},
   "outputs": [],
   "source": [
    "def waterJugSolver(amt1, amt2):\n",
    "    if(amt1==aim and amt2==0) or (amt2==aim and amt1==0):\n",
    "        print(amt1, amt2)\n",
    "        return True\n",
    "    \n",
    "    if visited[(amt1, amt2)] == False:\n",
    "        print(amt1, amt2)\n",
    "        visited[(amt1, amt2)] == True\n",
    "        \n",
    "        return (\n",
    "            waterJugSolver(0, amt2) or\n",
    "            waterJugSolver(amt1, 0) or\n",
    "            waterJugSolver(jug1, amt2) or\n",
    "            waterJugSolver(amt1, jug2) or\n",
    "            waterJugSolver(amt1 + min(amt2, (jug1-amt1)), amt2-min(amt2, (jug1-amt1))) or\n",
    "            waterJugSolver(amt1 + min(amt1, (jug2-amt2)), amt2+min(amt1, (jug2-amt2))) ) \n",
    "    else: \n",
    "        return False"
   ]
  },
  {
   "cell_type": "code",
   "execution_count": 4,
   "metadata": {},
   "outputs": [
    {
     "name": "stdout",
     "output_type": "stream",
     "text": [
      "Steps: \n",
      "0 0\n",
      "2 0\n"
     ]
    },
    {
     "data": {
      "text/plain": [
       "True"
      ]
     },
     "execution_count": 4,
     "metadata": {},
     "output_type": "execute_result"
    }
   ],
   "source": [
    "print(\"Steps: \")\n",
    "waterJugSolver(0, 0)"
   ]
  },
  {
   "cell_type": "code",
   "execution_count": null,
   "metadata": {},
   "outputs": [],
   "source": []
  }
 ],
 "metadata": {
  "interpreter": {
   "hash": "a7f5a0e89db25683a392863e0a3df80928ed8441acb433ccd5e4b3d284e5ccf1"
  },
  "kernelspec": {
   "display_name": "Python 3.9.6 64-bit",
   "language": "python",
   "name": "python3"
  },
  "language_info": {
   "codemirror_mode": {
    "name": "ipython",
    "version": 3
   },
   "file_extension": ".py",
   "mimetype": "text/x-python",
   "name": "python",
   "nbconvert_exporter": "python",
   "pygments_lexer": "ipython3",
   "version": "3.9.6"
  },
  "orig_nbformat": 4
 },
 "nbformat": 4,
 "nbformat_minor": 2
}
