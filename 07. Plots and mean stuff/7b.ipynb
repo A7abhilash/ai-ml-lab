{
 "cells": [
  {
   "cell_type": "code",
   "execution_count": 1,
   "id": "08ee5c3c",
   "metadata": {},
   "outputs": [
    {
     "name": "stdout",
     "output_type": "stream",
     "text": [
      "Mean -0.06307718218815318\n",
      "Variable 1.014965177976094\n",
      "SD: 1.0074548019519753\n"
     ]
    }
   ],
   "source": [
    "import numpy as np\n",
    "list=np.random.normal(size=1000)\n",
    "print(\"Mean\",np.average(list))\n",
    "print(\"Variable\",np.var(list))\n",
    "print(\"SD:\",np.std(list))\n"
   ]
  },
  {
   "cell_type": "code",
   "execution_count": 2,
   "id": "3ad885d5",
   "metadata": {},
   "outputs": [
    {
     "name": "stdout",
     "output_type": "stream",
     "text": [
      "Mean 0.999\n",
      "Variable 1.0049989999999998\n",
      "SD: 1.002496384033379\n"
     ]
    }
   ],
   "source": [
    "\n",
    "import numpy as np\n",
    "list=np.random.poisson(size=1000)\n",
    "print(\"Mean\",np.average(list))\n",
    "print(\"Variable\",np.var(list))\n",
    "print(\"SD:\",np.std(list))\n"
   ]
  }
 ],
 "metadata": {
  "kernelspec": {
   "display_name": "Python 3 (ipykernel)",
   "language": "python",
   "name": "python3"
  },
  "language_info": {
   "codemirror_mode": {
    "name": "ipython",
    "version": 3
   },
   "file_extension": ".py",
   "mimetype": "text/x-python",
   "name": "python",
   "nbconvert_exporter": "python",
   "pygments_lexer": "ipython3",
   "version": "3.10.4"
  }
 },
 "nbformat": 4,
 "nbformat_minor": 5
}
